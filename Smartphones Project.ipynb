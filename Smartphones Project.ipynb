{
 "cells": [
  {
   "cell_type": "markdown",
   "metadata": {},
   "source": [
    "# Smartphones Project"
   ]
  },
  {
   "cell_type": "code",
   "execution_count": 31,
   "metadata": {},
   "outputs": [],
   "source": [
    "import pandas as pd\n",
    "import numpy as np\n",
    "import seaborn as sns\n",
    "import matplotlib.pyplot as plt"
   ]
  },
  {
   "cell_type": "code",
   "execution_count": 2,
   "metadata": {},
   "outputs": [],
   "source": [
    "data=pd.read_csv(\"smartphones.csv\")"
   ]
  },
  {
   "cell_type": "code",
   "execution_count": 3,
   "metadata": {},
   "outputs": [
    {
     "data": {
      "text/html": [
       "<div>\n",
       "<style scoped>\n",
       "    .dataframe tbody tr th:only-of-type {\n",
       "        vertical-align: middle;\n",
       "    }\n",
       "\n",
       "    .dataframe tbody tr th {\n",
       "        vertical-align: top;\n",
       "    }\n",
       "\n",
       "    .dataframe thead th {\n",
       "        text-align: right;\n",
       "    }\n",
       "</style>\n",
       "<table border=\"1\" class=\"dataframe\">\n",
       "  <thead>\n",
       "    <tr style=\"text-align: right;\">\n",
       "      <th></th>\n",
       "      <th>Smartphone</th>\n",
       "      <th>Brand</th>\n",
       "      <th>Model</th>\n",
       "      <th>RAM</th>\n",
       "      <th>Storage</th>\n",
       "      <th>Color</th>\n",
       "      <th>Free</th>\n",
       "      <th>Final Price</th>\n",
       "    </tr>\n",
       "  </thead>\n",
       "  <tbody>\n",
       "    <tr>\n",
       "      <th>0</th>\n",
       "      <td>Realme C55 8/256GB Sunshower Libre</td>\n",
       "      <td>Realme</td>\n",
       "      <td>C55</td>\n",
       "      <td>8.0</td>\n",
       "      <td>256.0</td>\n",
       "      <td>Yellow</td>\n",
       "      <td>Yes</td>\n",
       "      <td>231.60</td>\n",
       "    </tr>\n",
       "    <tr>\n",
       "      <th>1</th>\n",
       "      <td>Samsung Galaxy M23 5G 4/128GB Azul Libre</td>\n",
       "      <td>Samsung</td>\n",
       "      <td>Galaxy M23</td>\n",
       "      <td>4.0</td>\n",
       "      <td>128.0</td>\n",
       "      <td>Blue</td>\n",
       "      <td>Yes</td>\n",
       "      <td>279.00</td>\n",
       "    </tr>\n",
       "    <tr>\n",
       "      <th>2</th>\n",
       "      <td>Motorola Moto G13 4/128GB Azul Lavanda Libre</td>\n",
       "      <td>Motorola</td>\n",
       "      <td>Moto G13</td>\n",
       "      <td>4.0</td>\n",
       "      <td>128.0</td>\n",
       "      <td>Blue</td>\n",
       "      <td>Yes</td>\n",
       "      <td>179.01</td>\n",
       "    </tr>\n",
       "    <tr>\n",
       "      <th>3</th>\n",
       "      <td>Xiaomi Redmi Note 11S 6/128GB Gris Libre</td>\n",
       "      <td>Xiaomi</td>\n",
       "      <td>Redmi Note 11S</td>\n",
       "      <td>6.0</td>\n",
       "      <td>128.0</td>\n",
       "      <td>Gray</td>\n",
       "      <td>Yes</td>\n",
       "      <td>279.99</td>\n",
       "    </tr>\n",
       "    <tr>\n",
       "      <th>4</th>\n",
       "      <td>Nothing Phone (2) 12/512GB Blanco Libre</td>\n",
       "      <td>Nothing</td>\n",
       "      <td>Phone (2)</td>\n",
       "      <td>12.0</td>\n",
       "      <td>512.0</td>\n",
       "      <td>White</td>\n",
       "      <td>Yes</td>\n",
       "      <td>799.00</td>\n",
       "    </tr>\n",
       "  </tbody>\n",
       "</table>\n",
       "</div>"
      ],
      "text/plain": [
       "                                     Smartphone     Brand           Model  \\\n",
       "0            Realme C55 8/256GB Sunshower Libre    Realme             C55   \n",
       "1      Samsung Galaxy M23 5G 4/128GB Azul Libre   Samsung      Galaxy M23   \n",
       "2  Motorola Moto G13 4/128GB Azul Lavanda Libre  Motorola        Moto G13   \n",
       "3      Xiaomi Redmi Note 11S 6/128GB Gris Libre    Xiaomi  Redmi Note 11S   \n",
       "4       Nothing Phone (2) 12/512GB Blanco Libre   Nothing       Phone (2)   \n",
       "\n",
       "    RAM  Storage   Color Free  Final Price  \n",
       "0   8.0    256.0  Yellow  Yes       231.60  \n",
       "1   4.0    128.0    Blue  Yes       279.00  \n",
       "2   4.0    128.0    Blue  Yes       179.01  \n",
       "3   6.0    128.0    Gray  Yes       279.99  \n",
       "4  12.0    512.0   White  Yes       799.00  "
      ]
     },
     "execution_count": 3,
     "metadata": {},
     "output_type": "execute_result"
    }
   ],
   "source": [
    "data.head()"
   ]
  },
  {
   "cell_type": "markdown",
   "metadata": {},
   "source": [
    "# Data Understanding"
   ]
  },
  {
   "cell_type": "markdown",
   "metadata": {},
   "source": [
    "# Data Dictionary"
   ]
  },
  {
   "cell_type": "code",
   "execution_count": 4,
   "metadata": {},
   "outputs": [],
   "source": [
    "#1.Variable\tDefinition Key\n",
    "#2.Smartphone-Smartpone\n",
    "#3.Brand in Mobiles\n",
    "#4.Models in Phones\n",
    "#5.Ram-->4g/6g/8g/12g\n",
    "#6.Storage-->128/256/512\n",
    "#7.Colors in mobiles\n",
    "#8.Free \n",
    "#9.Final Price in smartpones"
   ]
  },
  {
   "cell_type": "markdown",
   "metadata": {},
   "source": [
    "# 2.Intial Setup"
   ]
  },
  {
   "cell_type": "code",
   "execution_count": 5,
   "metadata": {},
   "outputs": [
    {
     "name": "stdout",
     "output_type": "stream",
     "text": [
      "<class 'pandas.core.frame.DataFrame'>\n",
      "RangeIndex: 1816 entries, 0 to 1815\n",
      "Data columns (total 8 columns):\n",
      " #   Column       Non-Null Count  Dtype  \n",
      "---  ------       --------------  -----  \n",
      " 0   Smartphone   1816 non-null   object \n",
      " 1   Brand        1816 non-null   object \n",
      " 2   Model        1816 non-null   object \n",
      " 3   RAM          1333 non-null   float64\n",
      " 4   Storage      1791 non-null   float64\n",
      " 5   Color        1816 non-null   object \n",
      " 6   Free         1816 non-null   object \n",
      " 7   Final Price  1816 non-null   float64\n",
      "dtypes: float64(3), object(5)\n",
      "memory usage: 113.6+ KB\n"
     ]
    }
   ],
   "source": [
    "data.info()"
   ]
  },
  {
   "cell_type": "markdown",
   "metadata": {},
   "source": [
    "# 3.Asking Questions to Data"
   ]
  },
  {
   "cell_type": "code",
   "execution_count": 6,
   "metadata": {},
   "outputs": [],
   "source": [
    "###1.Which smartphone brand has the highest average final price?\n",
    "###2.How does storage capacity affect the final price?\n",
    "###3.Which models are the most expensive within each brand?\n",
    "###4.How do different combinations of RAM and storage affect the final price?\n",
    "###5.Which smartphone colors are most common across all brands?\n",
    "###6.Is there a price difference between smartphones of different colors?\n",
    "###7.Final Price for smartphones?"
   ]
  },
  {
   "cell_type": "code",
   "execution_count": 7,
   "metadata": {},
   "outputs": [
    {
     "data": {
      "text/plain": [
       "<bound method IndexOpsMixin.value_counts of 0                     Realme C55 8/256GB Sunshower Libre\n",
       "1               Samsung Galaxy M23 5G 4/128GB Azul Libre\n",
       "2           Motorola Moto G13 4/128GB Azul Lavanda Libre\n",
       "3               Xiaomi Redmi Note 11S 6/128GB Gris Libre\n",
       "4                Nothing Phone (2) 12/512GB Blanco Libre\n",
       "                              ...                       \n",
       "1811               Xiaomi Redmi Note 8 4/64GB Azul Libre\n",
       "1812     Xiaomi Redmi Note 8T 4/128GB Azul Estelar Libre\n",
       "1813            Xiaomi Redmi Note 9 4/128GB Blanco Libre\n",
       "1814     Xiaomi Redmi Note 9S 4/64GB Dual SIM Gris Libre\n",
       "1815    Xiaomi Redmi Note 9S 6/128GB Dual SIM Gris Libre\n",
       "Name: Smartphone, Length: 1816, dtype: object>"
      ]
     },
     "execution_count": 7,
     "metadata": {},
     "output_type": "execute_result"
    }
   ],
   "source": [
    "data[\"Smartphone\"].value_counts"
   ]
  },
  {
   "cell_type": "code",
   "execution_count": 8,
   "metadata": {},
   "outputs": [
    {
     "data": {
      "text/plain": [
       "Realme C55 8/256GB Sunshower Libre                  0.055066\n",
       "Samsung Galaxy A53 5G 8/256GB Azul Libre            0.055066\n",
       "Huawei P30 Pro 8/128GB Breathing Crystal Libre      0.055066\n",
       "Huawei Nova 10 8/128GB Plata Libre                  0.055066\n",
       "Samsung Galaxy A21s 3/32GB Negro Libre              0.055066\n",
       "                                                      ...   \n",
       "Samsung Galaxy Note 10 Plus 256GB Blanco Libre      0.055066\n",
       "Cubot P80 8/256GB Morado Libre                      0.055066\n",
       "Huawei P30 Pro 8/128GB Black Libre                  0.055066\n",
       "Apple iPhone XS Max 256Gb Gris Espacial Libre       0.055066\n",
       "Xiaomi Redmi Note 9S 6/128GB Dual SIM Gris Libre    0.055066\n",
       "Name: Smartphone, Length: 1816, dtype: float64"
      ]
     },
     "execution_count": 8,
     "metadata": {},
     "output_type": "execute_result"
    }
   ],
   "source": [
    "data[\"Smartphone\"].value_counts(normalize=True)*100"
   ]
  },
  {
   "cell_type": "code",
   "execution_count": 9,
   "metadata": {},
   "outputs": [
    {
     "data": {
      "text/plain": [
       "Samsung       0.252203\n",
       "Xiaomi        0.193282\n",
       "Apple         0.160793\n",
       "Realme        0.064427\n",
       "OPPO          0.050661\n",
       "POCO          0.036894\n",
       "Motorola      0.031388\n",
       "Huawei        0.031388\n",
       "TCL           0.019824\n",
       "Cubot         0.018722\n",
       "Ulefone       0.016520\n",
       "Blackview     0.014868\n",
       "Vivo          0.014868\n",
       "Honor         0.014868\n",
       "OnePlus       0.012115\n",
       "Hammer        0.011564\n",
       "ZTE           0.009361\n",
       "Nokia         0.007159\n",
       "SPC           0.006057\n",
       "Google        0.004956\n",
       "Nothing       0.004956\n",
       "Alcatel       0.003855\n",
       "Crosscall     0.003855\n",
       "CAT           0.003304\n",
       "Gigaset       0.001652\n",
       "Qubo          0.001652\n",
       "Asus          0.001652\n",
       "Doro          0.001652\n",
       "Sony          0.001101\n",
       "Swissvoice    0.000551\n",
       "Maxcom        0.000551\n",
       "LG            0.000551\n",
       "BQ            0.000551\n",
       "Funker        0.000551\n",
       "Fairphone     0.000551\n",
       "Microsoft     0.000551\n",
       "Lenovo        0.000551\n",
       "Name: Brand, dtype: float64"
      ]
     },
     "execution_count": 9,
     "metadata": {},
     "output_type": "execute_result"
    }
   ],
   "source": [
    "data[\"Brand\"].value_counts(normalize=True)"
   ]
  },
  {
   "cell_type": "code",
   "execution_count": 10,
   "metadata": {},
   "outputs": [
    {
     "data": {
      "text/plain": [
       "Samsung       25.0\n",
       "Xiaomi        19.0\n",
       "Apple         16.0\n",
       "Realme         6.0\n",
       "OPPO           5.0\n",
       "POCO           4.0\n",
       "Motorola       3.0\n",
       "Huawei         3.0\n",
       "TCL            2.0\n",
       "Cubot          2.0\n",
       "Ulefone        2.0\n",
       "Blackview      1.0\n",
       "Vivo           1.0\n",
       "Honor          1.0\n",
       "OnePlus        1.0\n",
       "Hammer         1.0\n",
       "ZTE            1.0\n",
       "Nokia          1.0\n",
       "SPC            1.0\n",
       "Google         0.0\n",
       "Nothing        0.0\n",
       "Alcatel        0.0\n",
       "Crosscall      0.0\n",
       "CAT            0.0\n",
       "Gigaset        0.0\n",
       "Qubo           0.0\n",
       "Asus           0.0\n",
       "Doro           0.0\n",
       "Sony           0.0\n",
       "Swissvoice     0.0\n",
       "Maxcom         0.0\n",
       "LG             0.0\n",
       "BQ             0.0\n",
       "Funker         0.0\n",
       "Fairphone      0.0\n",
       "Microsoft      0.0\n",
       "Lenovo         0.0\n",
       "Name: Brand, dtype: float64"
      ]
     },
     "execution_count": 10,
     "metadata": {},
     "output_type": "execute_result"
    }
   ],
   "source": [
    "np.round(data[\"Brand\"].value_counts(normalize=True)*100)"
   ]
  },
  {
   "cell_type": "markdown",
   "metadata": {},
   "source": [
    "25% of Samsung users, 19% of Xiaomi users, 25% of Samsung users, 16% of Apple users, 6% of Realme users, 5% of OPPO users, 4% of POCO users, 3% of Motorola users, 3% of Motorola users, 2% of TCL users, 2% of Cubot users, 2% of Ulefone users, 1% of Blackview users, 1% of Vivo users, 1% of Honor users, 1% of OnePlus users, 1% of Hammer users, 1% of ZTE users, 1% of Nokia users, 2% of SPC users"
   ]
  },
  {
   "cell_type": "code",
   "execution_count": 11,
   "metadata": {},
   "outputs": [
    {
     "data": {
      "text/plain": [
       "iPhone 13       3.0\n",
       "iPhone 14       3.0\n",
       "iPhone 12       3.0\n",
       "Galaxy S23      3.0\n",
       "11 Pro          3.0\n",
       "               ... \n",
       "Jasper 2        0.0\n",
       "A53s            0.0\n",
       "G21             0.0\n",
       "A57             0.0\n",
       "Pocophone F2    0.0\n",
       "Name: Model, Length: 383, dtype: float64"
      ]
     },
     "execution_count": 11,
     "metadata": {},
     "output_type": "execute_result"
    }
   ],
   "source": [
    "np.round(data[\"Model\"].value_counts(normalize=True)*100)"
   ]
  },
  {
   "cell_type": "code",
   "execution_count": 12,
   "metadata": {},
   "outputs": [
    {
     "data": {
      "text/plain": [
       "8.0     29.0\n",
       "4.0     29.0\n",
       "6.0     19.0\n",
       "3.0      8.0\n",
       "12.0     8.0\n",
       "2.0      7.0\n",
       "1.0      0.0\n",
       "Name: RAM, dtype: float64"
      ]
     },
     "execution_count": 12,
     "metadata": {},
     "output_type": "execute_result"
    }
   ],
   "source": [
    "np.round(data[\"RAM\"].value_counts(normalize=True)*100)"
   ]
  },
  {
   "cell_type": "markdown",
   "metadata": {},
   "source": [
    "insigths:29% of 8G RAM users, 29% of 4G RAM users, 19% of 6G RAM users, 8% of 12G RAM users, 8% of 3G RAM users, 7% of 2G RAM users, 0% of 1G RAM users"
   ]
  },
  {
   "cell_type": "code",
   "execution_count": 13,
   "metadata": {},
   "outputs": [
    {
     "data": {
      "text/plain": [
       "128.0     41.0\n",
       "256.0     23.0\n",
       "64.0      19.0\n",
       "32.0       9.0\n",
       "512.0      5.0\n",
       "16.0       1.0\n",
       "1000.0     1.0\n",
       "4.0        0.0\n",
       "8.0        0.0\n",
       "2.0        0.0\n",
       "3.0        0.0\n",
       "12.0       0.0\n",
       "Name: Storage, dtype: float64"
      ]
     },
     "execution_count": 13,
     "metadata": {},
     "output_type": "execute_result"
    }
   ],
   "source": [
    "np.round(data[\"Storage\"].value_counts(normalize=True)*100)"
   ]
  },
  {
   "cell_type": "markdown",
   "metadata": {},
   "source": [
    "Insigths:41% are 128GB Storage users, 23% are 256GB Storage users, 19% are 64GB Storage users, 9% are 32GB Storage users, 5% are 512GB Storage users, 1% are 16GB Storage users, 1% are 1000GB Storage users, 0% of 4GB Storage users, 0% of 8GB Storage users, 0% of 2GB Storage users, 0% of 3GB Storage users, 0% of 12GB Storage users"
   ]
  },
  {
   "cell_type": "code",
   "execution_count": 14,
   "metadata": {},
   "outputs": [
    {
     "data": {
      "text/plain": [
       "Black        537\n",
       "Blue         339\n",
       "Gray         196\n",
       "Green        180\n",
       "White        170\n",
       "Silver        86\n",
       "Purple        80\n",
       "Gold          68\n",
       "Red           48\n",
       "Pink          41\n",
       "Orange        30\n",
       "Yellow        24\n",
       "Turquoise      5\n",
       "Brown          4\n",
       "Crystal        4\n",
       "Bronze         3\n",
       "Rainbow        1\n",
       "Name: Color, dtype: int64"
      ]
     },
     "execution_count": 14,
     "metadata": {},
     "output_type": "execute_result"
    }
   ],
   "source": [
    "data[\"Color\"].value_counts()"
   ]
  },
  {
   "cell_type": "code",
   "execution_count": 15,
   "metadata": {},
   "outputs": [
    {
     "data": {
      "text/plain": [
       "Black        30.0\n",
       "Blue         19.0\n",
       "Gray         11.0\n",
       "Green        10.0\n",
       "White         9.0\n",
       "Silver        5.0\n",
       "Purple        4.0\n",
       "Gold          4.0\n",
       "Red           3.0\n",
       "Pink          2.0\n",
       "Orange        2.0\n",
       "Yellow        1.0\n",
       "Turquoise     0.0\n",
       "Brown         0.0\n",
       "Crystal       0.0\n",
       "Bronze        0.0\n",
       "Rainbow       0.0\n",
       "Name: Color, dtype: float64"
      ]
     },
     "execution_count": 15,
     "metadata": {},
     "output_type": "execute_result"
    }
   ],
   "source": [
    "np.round(data[\"Color\"].value_counts(normalize=True)*100)"
   ]
  },
  {
   "cell_type": "markdown",
   "metadata": {},
   "source": [
    "30% uses Black color, 19% uses Blue color, 11% uses gray color, 10% uses green color, 9% uses white color, 5% uses silver color, 4% uses purple color, 4% uses gold color, 3% uses red color, 2% uses pink color, 2% uses orange color, 1% uses yellow color"
   ]
  },
  {
   "cell_type": "code",
   "execution_count": 16,
   "metadata": {},
   "outputs": [
    {
     "data": {
      "text/plain": [
       "399.00     17\n",
       "1159.00    17\n",
       "209.00     16\n",
       "199.00     14\n",
       "649.00     14\n",
       "           ..\n",
       "302.91      1\n",
       "376.78      1\n",
       "886.95      1\n",
       "106.92      1\n",
       "211.00      1\n",
       "Name: Final Price, Length: 1022, dtype: int64"
      ]
     },
     "execution_count": 16,
     "metadata": {},
     "output_type": "execute_result"
    }
   ],
   "source": [
    "data[\"Final Price\"].value_counts()"
   ]
  },
  {
   "cell_type": "code",
   "execution_count": 17,
   "metadata": {},
   "outputs": [
    {
     "data": {
      "text/plain": [
       "399.00     1.0\n",
       "1159.00    1.0\n",
       "209.00     1.0\n",
       "199.00     1.0\n",
       "649.00     1.0\n",
       "          ... \n",
       "302.91     0.0\n",
       "376.78     0.0\n",
       "886.95     0.0\n",
       "106.92     0.0\n",
       "211.00     0.0\n",
       "Name: Final Price, Length: 1022, dtype: float64"
      ]
     },
     "execution_count": 17,
     "metadata": {},
     "output_type": "execute_result"
    }
   ],
   "source": [
    "np.round(data[\"Final Price\"].value_counts(normalize=True)*100)"
   ]
  },
  {
   "cell_type": "markdown",
   "metadata": {},
   "source": [
    "# 4.Univariate analysis"
   ]
  },
  {
   "cell_type": "code",
   "execution_count": 18,
   "metadata": {},
   "outputs": [
    {
     "data": {
      "text/plain": [
       "count    1791.000000\n",
       "mean      162.652150\n",
       "std       139.411605\n",
       "min         2.000000\n",
       "25%        64.000000\n",
       "50%       128.000000\n",
       "75%       256.000000\n",
       "max      1000.000000\n",
       "Name: Storage, dtype: float64"
      ]
     },
     "execution_count": 18,
     "metadata": {},
     "output_type": "execute_result"
    }
   ],
   "source": [
    "data[\"Storage\"].describe()"
   ]
  },
  {
   "cell_type": "markdown",
   "metadata": {},
   "source": [
    "The average usage of stoarge is 162, Max storage users 1TB, Min storage users 2"
   ]
  },
  {
   "cell_type": "code",
   "execution_count": 19,
   "metadata": {},
   "outputs": [
    {
     "data": {
      "text/plain": [
       "count      1816\n",
       "unique       17\n",
       "top       Black\n",
       "freq        537\n",
       "Name: Color, dtype: object"
      ]
     },
     "execution_count": 19,
     "metadata": {},
     "output_type": "execute_result"
    }
   ],
   "source": [
    "data[\"Color\"].describe()"
   ]
  },
  {
   "cell_type": "markdown",
   "metadata": {},
   "source": [
    "Black Color uses more than unique colors"
   ]
  },
  {
   "cell_type": "code",
   "execution_count": 20,
   "metadata": {},
   "outputs": [
    {
     "data": {
      "text/plain": [
       "count    1816.000000\n",
       "mean      492.175573\n",
       "std       398.606183\n",
       "min        60.460000\n",
       "25%       200.990000\n",
       "50%       349.990000\n",
       "75%       652.717500\n",
       "max      2271.280000\n",
       "Name: Final Price, dtype: float64"
      ]
     },
     "execution_count": 20,
     "metadata": {},
     "output_type": "execute_result"
    }
   ],
   "source": [
    "data[\"Final Price\"].describe()"
   ]
  },
  {
   "cell_type": "markdown",
   "metadata": {},
   "source": [
    "The avreage price is 492%, Max price is 2271%, Min price is 60%"
   ]
  },
  {
   "cell_type": "code",
   "execution_count": 21,
   "metadata": {},
   "outputs": [
    {
     "data": {
      "image/png": "[encoded data removed]",
      "text/plain": [
       "<Figure size 432x288 with 1 Axes>"
      ]
     },
     "metadata": {
      "needs_background": "light"
     },
     "output_type": "display_data"
    }
   ],
   "source": [
    "sns.countplot(data=data,x='Storage')\n",
    "plt.title('Smartphone Storage')\n",
    "plt.show()"
   ]
  },
  {
   "cell_type": "code",
   "execution_count": 22,
   "metadata": {},
   "outputs": [
    {
     "data": {
      "text/plain": [
       "count     1816\n",
       "unique       2\n",
       "top        Yes\n",
       "freq      1772\n",
       "Name: Free, dtype: object"
      ]
     },
     "execution_count": 22,
     "metadata": {},
     "output_type": "execute_result"
    }
   ],
   "source": [
    "data['Free'].describe()"
   ]
  },
  {
   "cell_type": "code",
   "execution_count": 23,
   "metadata": {},
   "outputs": [
    {
     "data": {
      "image/png": "[encoded data removed]",
      "text/plain": [
       "<Figure size 432x288 with 1 Axes>"
      ]
     },
     "metadata": {
      "needs_background": "light"
     },
     "output_type": "display_data"
    }
   ],
   "source": [
    "sns.countplot(data=data,x='Free')\n",
    "plt.title('Smartphone Free')\n",
    "plt.show()"
   ]
  },
  {
   "cell_type": "code",
   "execution_count": 24,
   "metadata": {},
   "outputs": [
    {
     "data": {
      "image/png": "[encoded data removed]",
      "text/plain": [
       "<Figure size 432x288 with 1 Axes>"
      ]
     },
     "metadata": {
      "needs_background": "light"
     },
     "output_type": "display_data"
    }
   ],
   "source": [
    "sns.histplot(data=data,x='Storage')\n",
    "plt.title('Storage of Smartphone')\n",
    "plt.show()"
   ]
  },
  {
   "cell_type": "code",
   "execution_count": 25,
   "metadata": {},
   "outputs": [
    {
     "data": {
      "image/png": "[encoded data removed]",
      "text/plain": [
       "<Figure size 432x288 with 1 Axes>"
      ]
     },
     "metadata": {
      "needs_background": "light"
     },
     "output_type": "display_data"
    }
   ],
   "source": [
    "sns.histplot(data=data,x='RAM')\n",
    "plt.title('Smartphone RAM')\n",
    "plt.show()"
   ]
  },
  {
   "cell_type": "code",
   "execution_count": 26,
   "metadata": {},
   "outputs": [
    {
     "data": {
      "image/png": "[encoded data removed]",
      "text/plain": [
       "<Figure size 432x288 with 1 Axes>"
      ]
     },
     "metadata": {
      "needs_background": "light"
     },
     "output_type": "display_data"
    }
   ],
   "source": [
    "sns.histplot(data=data,x='Final Price')\n",
    "plt.title('Final Price Of Smartphone')\n",
    "plt.show()"
   ]
  },
  {
   "cell_type": "markdown",
   "metadata": {},
   "source": [
    "# 5.Bivariate Analysis "
   ]
  },
  {
   "cell_type": "code",
   "execution_count": 27,
   "metadata": {},
   "outputs": [
    {
     "data": {
      "image/png": "[encoded data removed]",
      "text/plain": [
       "<Figure size 432x288 with 1 Axes>"
      ]
     },
     "metadata": {
      "needs_background": "light"
     },
     "output_type": "display_data"
    }
   ],
   "source": [
    "sns.boxplot(data=data,x='Final Price')\n",
    "plt.title('Final Price of Smartphone')\n",
    "plt.show()"
   ]
  },
  {
   "cell_type": "code",
   "execution_count": 28,
   "metadata": {},
   "outputs": [
    {
     "data": {
      "image/png": "[encoded data removed]",
      "text/plain": [
       "<Figure size 432x288 with 1 Axes>"
      ]
     },
     "metadata": {
      "needs_background": "light"
     },
     "output_type": "display_data"
    }
   ],
   "source": [
    "sns.scatterplot(data=data,x='Brand',y='Final Price')\n",
    "plt.title('Highest Brand Price')\n",
    "plt.show()"
   ]
  },
  {
   "cell_type": "code",
   "execution_count": 29,
   "metadata": {},
   "outputs": [
    {
     "data": {
      "image/png": "[encoded data removed]",
      "text/plain": [
       "<Figure size 432x288 with 1 Axes>"
      ]
     },
     "metadata": {
      "needs_background": "light"
     },
     "output_type": "display_data"
    }
   ],
   "source": [
    "sns.kdeplot(data=data,x='Final Price')\n",
    "plt.title('Final Price of smartphone')\n",
    "plt.show()"
   ]
  },
  {
   "cell_type": "code",
   "execution_count": 30,
   "metadata": {},
   "outputs": [
    {
     "data": {
      "image/png": "[encoded data removed]",
      "text/plain": [
       "<Figure size 432x288 with 1 Axes>"
      ]
     },
     "metadata": {
      "needs_background": "light"
     },
     "output_type": "display_data"
    }
   ],
   "source": [
    "sns.barplot(data=data,x='Color',y='Storage')\n",
    "plt.title('Color and Storage of smartphone')\n",
    "plt.show()"
   ]
  }
 ],
 "metadata": {
  "kernelspec": {
   "display_name": "Python 3",
   "language": "python",
   "name": "python3"
  },
  "language_info": {
   "codemirror_mode": {
    "name": "ipython",
    "version": 3
   },
   "file_extension": ".py",
   "mimetype": "text/x-python",
   "name": "python",
   "nbconvert_exporter": "python",
   "pygments_lexer": "ipython3",
   "version": "3.7.1"
  }
 },
 "nbformat": 4,
 "nbformat_minor": 2
}
