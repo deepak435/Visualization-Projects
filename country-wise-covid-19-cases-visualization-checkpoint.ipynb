{
 "cells": [
  {
   "cell_type": "markdown",
   "metadata": {},
   "source": [
    "# country-wise-covid-19-cases-visualization"
   ]
  },
  {
   "cell_type": "code",
   "execution_count": 18,
   "metadata": {
    "_cell_guid": "b1076dfc-b9ad-4769-8c92-a6c4dae69d19",
    "_uuid": "8f2839f25d086af736a60e9eeb907d3b93b6e0e5",
    "execution": {
     "iopub.execute_input": "2023-06-24T09:34:57.904978Z",
     "iopub.status.busy": "2023-06-24T09:34:57.903418Z",
     "iopub.status.idle": "2023-06-24T09:35:00.261522Z",
     "shell.execute_reply": "2023-06-24T09:35:00.260120Z",
     "shell.execute_reply.started": "2023-06-24T09:34:57.904911Z"
    }
   },
   "outputs": [],
   "source": [
    "import numpy as np\n",
    "import pandas as pd \n",
    "import plotly as px\n",
    "import seaborn as sns"
   ]
  },
  {
   "cell_type": "code",
   "execution_count": 3,
   "metadata": {
    "execution": {
     "iopub.execute_input": "2023-06-24T08:40:08.352931Z",
     "iopub.status.busy": "2023-06-24T08:40:08.352297Z",
     "iopub.status.idle": "2023-06-24T08:40:08.368734Z",
     "shell.execute_reply": "2023-06-24T08:40:08.367379Z",
     "shell.execute_reply.started": "2023-06-24T08:40:08.352893Z"
    }
   },
   "outputs": [],
   "source": [
    "dataset=pd.read_csv(\"Country-wise-COVID-cases.csv\")"
   ]
  },
  {
   "cell_type": "code",
   "execution_count": 4,
   "metadata": {
    "execution": {
     "iopub.execute_input": "2023-06-24T08:40:08.370580Z",
     "iopub.status.busy": "2023-06-24T08:40:08.370017Z",
     "iopub.status.idle": "2023-06-24T08:40:08.403514Z",
     "shell.execute_reply": "2023-06-24T08:40:08.402183Z",
     "shell.execute_reply.started": "2023-06-24T08:40:08.370540Z"
    }
   },
   "outputs": [
    {
     "data": {
      "text/html": [
       "<div>\n",
       "<style scoped>\n",
       "    .dataframe tbody tr th:only-of-type {\n",
       "        vertical-align: middle;\n",
       "    }\n",
       "\n",
       "    .dataframe tbody tr th {\n",
       "        vertical-align: top;\n",
       "    }\n",
       "\n",
       "    .dataframe thead th {\n",
       "        text-align: right;\n",
       "    }\n",
       "</style>\n",
       "<table border=\"1\" class=\"dataframe\">\n",
       "  <thead>\n",
       "    <tr style=\"text-align: right;\">\n",
       "      <th></th>\n",
       "      <th>Country Name</th>\n",
       "      <th>Total Infected</th>\n",
       "      <th>Total Deaths</th>\n",
       "      <th>Total Recovered</th>\n",
       "      <th>Death %</th>\n",
       "      <th>Recovered %</th>\n",
       "    </tr>\n",
       "  </thead>\n",
       "  <tbody>\n",
       "    <tr>\n",
       "      <th>0</th>\n",
       "      <td>USA</td>\n",
       "      <td>47916190</td>\n",
       "      <td>783565</td>\n",
       "      <td>37918301.0</td>\n",
       "      <td>1.6</td>\n",
       "      <td>79.1</td>\n",
       "    </tr>\n",
       "    <tr>\n",
       "      <th>1</th>\n",
       "      <td>India</td>\n",
       "      <td>34447536</td>\n",
       "      <td>463655</td>\n",
       "      <td>33849785.0</td>\n",
       "      <td>1.3</td>\n",
       "      <td>98.3</td>\n",
       "    </tr>\n",
       "    <tr>\n",
       "      <th>2</th>\n",
       "      <td>Brazil</td>\n",
       "      <td>21957967</td>\n",
       "      <td>611318</td>\n",
       "      <td>21151342.0</td>\n",
       "      <td>2.8</td>\n",
       "      <td>96.3</td>\n",
       "    </tr>\n",
       "    <tr>\n",
       "      <th>3</th>\n",
       "      <td>UK</td>\n",
       "      <td>9561099</td>\n",
       "      <td>142898</td>\n",
       "      <td>7825200.0</td>\n",
       "      <td>1.5</td>\n",
       "      <td>81.8</td>\n",
       "    </tr>\n",
       "    <tr>\n",
       "      <th>4</th>\n",
       "      <td>Russia</td>\n",
       "      <td>9109094</td>\n",
       "      <td>256597</td>\n",
       "      <td>7812557.0</td>\n",
       "      <td>2.8</td>\n",
       "      <td>85.8</td>\n",
       "    </tr>\n",
       "    <tr>\n",
       "      <th>...</th>\n",
       "      <td>...</td>\n",
       "      <td>...</td>\n",
       "      <td>...</td>\n",
       "      <td>...</td>\n",
       "      <td>...</td>\n",
       "      <td>...</td>\n",
       "    </tr>\n",
       "    <tr>\n",
       "      <th>207</th>\n",
       "      <td>Vanuatu</td>\n",
       "      <td>6</td>\n",
       "      <td>1</td>\n",
       "      <td>3.0</td>\n",
       "      <td>16.7</td>\n",
       "      <td>50.0</td>\n",
       "    </tr>\n",
       "    <tr>\n",
       "      <th>208</th>\n",
       "      <td>Marshall Islands</td>\n",
       "      <td>4</td>\n",
       "      <td>0</td>\n",
       "      <td>4.0</td>\n",
       "      <td>0.0</td>\n",
       "      <td>100.0</td>\n",
       "    </tr>\n",
       "    <tr>\n",
       "      <th>209</th>\n",
       "      <td>Samoa</td>\n",
       "      <td>3</td>\n",
       "      <td>0</td>\n",
       "      <td>3.0</td>\n",
       "      <td>0.0</td>\n",
       "      <td>100.0</td>\n",
       "    </tr>\n",
       "    <tr>\n",
       "      <th>210</th>\n",
       "      <td>Micronesia</td>\n",
       "      <td>1</td>\n",
       "      <td>0</td>\n",
       "      <td>1.0</td>\n",
       "      <td>0.0</td>\n",
       "      <td>100.0</td>\n",
       "    </tr>\n",
       "    <tr>\n",
       "      <th>211</th>\n",
       "      <td>Tonga</td>\n",
       "      <td>1</td>\n",
       "      <td>0</td>\n",
       "      <td>NaN</td>\n",
       "      <td>0.0</td>\n",
       "      <td>0.0</td>\n",
       "    </tr>\n",
       "  </tbody>\n",
       "</table>\n",
       "<p>212 rows × 6 columns</p>\n",
       "</div>"
      ],
      "text/plain": [
       "         Country Name  Total Infected  Total Deaths  Total Recovered  Death %  \\\n",
       "0                 USA        47916190        783565       37918301.0      1.6   \n",
       "1               India        34447536        463655       33849785.0      1.3   \n",
       "2              Brazil        21957967        611318       21151342.0      2.8   \n",
       "3                  UK         9561099        142898        7825200.0      1.5   \n",
       "4              Russia         9109094        256597        7812557.0      2.8   \n",
       "..                ...             ...           ...              ...      ...   \n",
       "207           Vanuatu               6             1              3.0     16.7   \n",
       "208  Marshall Islands               4             0              4.0      0.0   \n",
       "209             Samoa               3             0              3.0      0.0   \n",
       "210        Micronesia               1             0              1.0      0.0   \n",
       "211             Tonga               1             0              NaN      0.0   \n",
       "\n",
       "     Recovered %  \n",
       "0           79.1  \n",
       "1           98.3  \n",
       "2           96.3  \n",
       "3           81.8  \n",
       "4           85.8  \n",
       "..           ...  \n",
       "207         50.0  \n",
       "208        100.0  \n",
       "209        100.0  \n",
       "210        100.0  \n",
       "211          0.0  \n",
       "\n",
       "[212 rows x 6 columns]"
      ]
     },
     "execution_count": 4,
     "metadata": {},
     "output_type": "execute_result"
    }
   ],
   "source": [
    "dataset"
   ]
  },
  {
   "cell_type": "code",
   "execution_count": 6,
   "metadata": {
    "execution": {
     "iopub.execute_input": "2023-06-24T08:40:08.407809Z",
     "iopub.status.busy": "2023-06-24T08:40:08.407457Z",
     "iopub.status.idle": "2023-06-24T08:40:08.436762Z",
     "shell.execute_reply": "2023-06-24T08:40:08.435334Z",
     "shell.execute_reply.started": "2023-06-24T08:40:08.407775Z"
    }
   },
   "outputs": [
    {
     "name": "stdout",
     "output_type": "stream",
     "text": [
      "<class 'pandas.core.frame.DataFrame'>\n",
      "RangeIndex: 212 entries, 0 to 211\n",
      "Data columns (total 6 columns):\n",
      " #   Column           Non-Null Count  Dtype  \n",
      "---  ------           --------------  -----  \n",
      " 0   Country Name     212 non-null    object \n",
      " 1   Total Infected   212 non-null    int64  \n",
      " 2   Total Deaths     212 non-null    int64  \n",
      " 3   Total Recovered  211 non-null    float64\n",
      " 4   Death %          212 non-null    float64\n",
      " 5   Recovered %      212 non-null    float64\n",
      "dtypes: float64(3), int64(2), object(1)\n",
      "memory usage: 10.1+ KB\n"
     ]
    }
   ],
   "source": [
    "dataset.info()"
   ]
  },
  {
   "cell_type": "code",
   "execution_count": 7,
   "metadata": {
    "execution": {
     "iopub.execute_input": "2023-06-24T08:40:08.440164Z",
     "iopub.status.busy": "2023-06-24T08:40:08.438439Z",
     "iopub.status.idle": "2023-06-24T08:40:08.452710Z",
     "shell.execute_reply": "2023-06-24T08:40:08.451326Z",
     "shell.execute_reply.started": "2023-06-24T08:40:08.440112Z"
    }
   },
   "outputs": [
    {
     "data": {
      "text/plain": [
       "Country Name       0\n",
       "Total Infected     0\n",
       "Total Deaths       0\n",
       "Total Recovered    1\n",
       "Death %            0\n",
       "Recovered %        0\n",
       "dtype: int64"
      ]
     },
     "execution_count": 7,
     "metadata": {},
     "output_type": "execute_result"
    }
   ],
   "source": [
    "dataset.isnull().sum()"
   ]
  },
  {
   "cell_type": "code",
   "execution_count": 8,
   "metadata": {
    "execution": {
     "iopub.execute_input": "2023-06-24T08:40:08.454626Z",
     "iopub.status.busy": "2023-06-24T08:40:08.454204Z",
     "iopub.status.idle": "2023-06-24T08:40:08.467421Z",
     "shell.execute_reply": "2023-06-24T08:40:08.466180Z",
     "shell.execute_reply.started": "2023-06-24T08:40:08.454588Z"
    }
   },
   "outputs": [
    {
     "data": {
      "text/plain": [
       "0      37918301.0\n",
       "1      33849785.0\n",
       "2      21151342.0\n",
       "3       7825200.0\n",
       "4       7812557.0\n",
       "          ...    \n",
       "207           3.0\n",
       "208           4.0\n",
       "209           3.0\n",
       "210           1.0\n",
       "211           NaN\n",
       "Name: Total Recovered, Length: 212, dtype: float64"
      ]
     },
     "execution_count": 8,
     "metadata": {},
     "output_type": "execute_result"
    }
   ],
   "source": [
    "dataset[\"Total Recovered\"]"
   ]
  },
  {
   "cell_type": "code",
   "execution_count": 9,
   "metadata": {
    "execution": {
     "iopub.execute_input": "2023-06-24T08:40:08.469470Z",
     "iopub.status.busy": "2023-06-24T08:40:08.469111Z",
     "iopub.status.idle": "2023-06-24T08:40:08.483780Z",
     "shell.execute_reply": "2023-06-24T08:40:08.481761Z",
     "shell.execute_reply.started": "2023-06-24T08:40:08.469435Z"
    }
   },
   "outputs": [
    {
     "data": {
      "text/plain": [
       "1088647.241706161"
      ]
     },
     "execution_count": 9,
     "metadata": {},
     "output_type": "execute_result"
    }
   ],
   "source": [
    "dataset[\"Total Recovered\"].mean()"
   ]
  },
  {
   "cell_type": "code",
   "execution_count": 10,
   "metadata": {
    "execution": {
     "iopub.execute_input": "2023-06-24T08:40:08.486005Z",
     "iopub.status.busy": "2023-06-24T08:40:08.485662Z",
     "iopub.status.idle": "2023-06-24T08:40:08.493873Z",
     "shell.execute_reply": "2023-06-24T08:40:08.492557Z",
     "shell.execute_reply.started": "2023-06-24T08:40:08.485972Z"
    }
   },
   "outputs": [],
   "source": [
    "dataset[\"Total Recovered\"]=dataset[\"Total Recovered\"].fillna(1088647.24)"
   ]
  },
  {
   "cell_type": "code",
   "execution_count": 11,
   "metadata": {
    "execution": {
     "iopub.execute_input": "2023-06-24T08:40:08.495850Z",
     "iopub.status.busy": "2023-06-24T08:40:08.495482Z",
     "iopub.status.idle": "2023-06-24T08:40:08.511069Z",
     "shell.execute_reply": "2023-06-24T08:40:08.509930Z",
     "shell.execute_reply.started": "2023-06-24T08:40:08.495771Z"
    }
   },
   "outputs": [
    {
     "data": {
      "text/plain": [
       "Country Name       0\n",
       "Total Infected     0\n",
       "Total Deaths       0\n",
       "Total Recovered    0\n",
       "Death %            0\n",
       "Recovered %        0\n",
       "dtype: int64"
      ]
     },
     "execution_count": 11,
     "metadata": {},
     "output_type": "execute_result"
    }
   ],
   "source": [
    "dataset.isnull().sum()"
   ]
  },
  {
   "cell_type": "code",
   "execution_count": 12,
   "metadata": {
    "execution": {
     "iopub.execute_input": "2023-06-24T08:40:08.514749Z",
     "iopub.status.busy": "2023-06-24T08:40:08.513918Z",
     "iopub.status.idle": "2023-06-24T08:40:08.524575Z",
     "shell.execute_reply": "2023-06-24T08:40:08.523384Z",
     "shell.execute_reply.started": "2023-06-24T08:40:08.514710Z"
    }
   },
   "outputs": [
    {
     "data": {
      "text/plain": [
       "array(['USA', 'India', 'Brazil', 'UK', 'Russia', 'Turkey', 'France',\n",
       "       'Iran', 'Argentina', 'Spain', 'Germany', 'Colombia', 'Italy',\n",
       "       'Indonesia', 'Mexico', 'Ukraine', 'Poland', 'South Africa',\n",
       "       'Philippines', 'Malaysia', 'Netherlands', 'Peru', 'Iraq',\n",
       "       'Thailand', 'Czech Republic', 'Canada', 'Romania', 'Chile',\n",
       "       'Japan', 'Bangladesh', 'Belgium', 'Israel', 'Pakistan', 'Serbia',\n",
       "       'Sweden', 'Portugal', 'Vietnam', 'Austria', 'Hungary', 'Cuba',\n",
       "       'Kazakhstan', 'Morocco', 'Switzerland', 'Jordan', 'Greece',\n",
       "       'Nepal', 'Georgia', 'UAE', 'Tunisia', 'Bulgaria', 'Lebanon',\n",
       "       'Belarus', 'Guatemala', 'Costa Rica', 'Slovakia', 'Azerbaijan',\n",
       "       'Sri Lanka', 'Saudi Arabia', 'Croatia', 'Bolivia', 'Ecuador',\n",
       "       'Myanmar', 'Ireland', 'Panama', 'Paraguay', 'Lithuania', 'Denmark',\n",
       "       'Palestine', 'Venezuela', 'Kuwait', 'South Korea', 'Uruguay',\n",
       "       'Dominican Republic', 'Slovenia', 'Honduras', 'Mongolia',\n",
       "       'Ethiopia', 'Libya', 'Moldova', 'Egypt', 'Armenia', 'Oman',\n",
       "       'Bahrain', 'Bosnia and Herzegovina', 'Kenya', 'Qatar', 'Latvia',\n",
       "       'Singapore', 'Norway', 'Nigeria', 'Estonia', 'Zambia',\n",
       "       'North Macedonia', 'Algeria', 'Botswana', 'Albania', 'Australia',\n",
       "       'Uzbekistan', 'Kyrgyzstan', 'Finland', 'Afghanistan', 'Montenegro',\n",
       "       'Mozambique', 'Zimbabwe', 'Ghana', 'Namibia', 'Uganda', 'Cyprus',\n",
       "       'Cambodia', 'El Salvador', 'Cameroon', 'Rwanda', 'China',\n",
       "       'Jamaica', 'Maldives', 'Luxembourg', 'Senegal', 'Angola',\n",
       "       'Trinidad and Tobago', 'Malawi', 'DRC', 'RÃ©union', 'Guadeloupe',\n",
       "       'Fiji', 'Suriname', 'Syria', 'French Guiana', 'Martinique',\n",
       "       'Madagascar', 'Sudan', 'French Polynesia', 'Malta', 'Mauritania',\n",
       "       'Guyana', 'Gabon', 'Papua New Guinea', 'Guinea', 'Belize',\n",
       "       'Tanzania', 'Togo', 'Benin', 'Haiti', 'Somalia', 'Seychelles',\n",
       "       'Bahamas', 'Barbados', 'Lesotho', 'Mayotte', 'Burundi',\n",
       "       'Timor-Leste', 'Mauritius', 'Congo', 'CuraÃ§ao', 'Tajikistan',\n",
       "       'Nicaragua', 'Mali', 'Taiwan', 'Aruba', 'Andorra', 'Iceland',\n",
       "       'Burkina Faso', 'Channel Islands', 'Brunei', 'Djibouti',\n",
       "       'Equatorial Guinea', 'Saint Lucia', 'South Sudan', 'Hong Kong',\n",
       "       'Central African Republic', 'New Caledonia', 'Isle of Man',\n",
       "       'Gambia', 'Yemen', 'New Zealand', 'Eritrea', 'Niger', 'Gibraltar',\n",
       "       'Guinea-Bissau', 'Sierra Leone', 'Liberia', 'Grenada', 'Bermuda',\n",
       "       'San Marino', 'Dominica', 'Saint Vincent and the Grenadines',\n",
       "       'Chad', 'Sint Maarten', 'Comoros', 'Cayman Islands',\n",
       "       'Antigua and Barbuda', 'Saint Martin', 'Liechtenstein', 'Monaco',\n",
       "       'Faroe Islands', 'Saint Kitts and Nevis', 'British Virgin Islands',\n",
       "       'Caribbean Netherlands', 'Bhutan', 'Anguilla', 'Greenland',\n",
       "       'Diamond Princess', 'Wallis and Futuna', 'Macao', 'Montserrat',\n",
       "       'Solomon Islands', 'Western Sahara', 'Palau', 'Vanuatu',\n",
       "       'Marshall Islands', 'Samoa', 'Micronesia', 'Tonga'], dtype=object)"
      ]
     },
     "execution_count": 12,
     "metadata": {},
     "output_type": "execute_result"
    }
   ],
   "source": [
    "dataset[\"Country Name\"].unique()"
   ]
  },
  {
   "cell_type": "code",
   "execution_count": 13,
   "metadata": {
    "execution": {
     "iopub.execute_input": "2023-06-24T08:40:10.188540Z",
     "iopub.status.busy": "2023-06-24T08:40:10.188030Z",
     "iopub.status.idle": "2023-06-24T08:40:10.204725Z",
     "shell.execute_reply": "2023-06-24T08:40:10.203349Z",
     "shell.execute_reply.started": "2023-06-24T08:40:10.188489Z"
    }
   },
   "outputs": [
    {
     "data": {
      "text/html": [
       "<div>\n",
       "<style scoped>\n",
       "    .dataframe tbody tr th:only-of-type {\n",
       "        vertical-align: middle;\n",
       "    }\n",
       "\n",
       "    .dataframe tbody tr th {\n",
       "        vertical-align: top;\n",
       "    }\n",
       "\n",
       "    .dataframe thead th {\n",
       "        text-align: right;\n",
       "    }\n",
       "</style>\n",
       "<table border=\"1\" class=\"dataframe\">\n",
       "  <thead>\n",
       "    <tr style=\"text-align: right;\">\n",
       "      <th></th>\n",
       "      <th>Country Name</th>\n",
       "      <th>Death %</th>\n",
       "    </tr>\n",
       "  </thead>\n",
       "  <tbody>\n",
       "    <tr>\n",
       "      <th>172</th>\n",
       "      <td>Yemen</td>\n",
       "      <td>19.4</td>\n",
       "    </tr>\n",
       "    <tr>\n",
       "      <th>207</th>\n",
       "      <td>Vanuatu</td>\n",
       "      <td>16.7</td>\n",
       "    </tr>\n",
       "    <tr>\n",
       "      <th>205</th>\n",
       "      <td>Western Sahara</td>\n",
       "      <td>10.0</td>\n",
       "    </tr>\n",
       "    <tr>\n",
       "      <th>21</th>\n",
       "      <td>Peru</td>\n",
       "      <td>9.1</td>\n",
       "    </tr>\n",
       "    <tr>\n",
       "      <th>129</th>\n",
       "      <td>Sudan</td>\n",
       "      <td>7.7</td>\n",
       "    </tr>\n",
       "    <tr>\n",
       "      <th>14</th>\n",
       "      <td>Mexico</td>\n",
       "      <td>7.6</td>\n",
       "    </tr>\n",
       "    <tr>\n",
       "      <th>60</th>\n",
       "      <td>Ecuador</td>\n",
       "      <td>6.3</td>\n",
       "    </tr>\n",
       "    <tr>\n",
       "      <th>125</th>\n",
       "      <td>Syria</td>\n",
       "      <td>5.8</td>\n",
       "    </tr>\n",
       "    <tr>\n",
       "      <th>142</th>\n",
       "      <td>Somalia</td>\n",
       "      <td>5.7</td>\n",
       "    </tr>\n",
       "    <tr>\n",
       "      <th>79</th>\n",
       "      <td>Egypt</td>\n",
       "      <td>5.7</td>\n",
       "    </tr>\n",
       "    <tr>\n",
       "      <th>156</th>\n",
       "      <td>Taiwan</td>\n",
       "      <td>5.1</td>\n",
       "    </tr>\n",
       "    <tr>\n",
       "      <th>179</th>\n",
       "      <td>Liberia</td>\n",
       "      <td>4.9</td>\n",
       "    </tr>\n",
       "    <tr>\n",
       "      <th>112</th>\n",
       "      <td>China</td>\n",
       "      <td>4.7</td>\n",
       "    </tr>\n",
       "    <tr>\n",
       "      <th>100</th>\n",
       "      <td>Afghanistan</td>\n",
       "      <td>4.7</td>\n",
       "    </tr>\n",
       "    <tr>\n",
       "      <th>83</th>\n",
       "      <td>Bosnia and Herzegovina</td>\n",
       "      <td>4.5</td>\n",
       "    </tr>\n",
       "  </tbody>\n",
       "</table>\n",
       "</div>"
      ],
      "text/plain": [
       "               Country Name  Death %\n",
       "172                   Yemen     19.4\n",
       "207                 Vanuatu     16.7\n",
       "205          Western Sahara     10.0\n",
       "21                     Peru      9.1\n",
       "129                   Sudan      7.7\n",
       "14                   Mexico      7.6\n",
       "60                  Ecuador      6.3\n",
       "125                   Syria      5.8\n",
       "142                 Somalia      5.7\n",
       "79                    Egypt      5.7\n",
       "156                  Taiwan      5.1\n",
       "179                 Liberia      4.9\n",
       "112                   China      4.7\n",
       "100             Afghanistan      4.7\n",
       "83   Bosnia and Herzegovina      4.5"
      ]
     },
     "execution_count": 13,
     "metadata": {},
     "output_type": "execute_result"
    }
   ],
   "source": [
    "percent_death = dataset[[\"Country Name\",\"Death %\"]].sort_values(by=\"Death %\", ascending=False)[:15]\n",
    "percent_death"
   ]
  },
  {
   "cell_type": "markdown",
   "metadata": {},
   "source": [
    "# Visualization Using Seaborn :"
   ]
  },
  {
   "cell_type": "markdown",
   "metadata": {},
   "source": [
    "### 1) Top 10 Countries Death Percentage"
   ]
  },
  {
   "cell_type": "code",
   "execution_count": 14,
   "metadata": {
    "execution": {
     "iopub.execute_input": "2023-06-24T09:12:09.812688Z",
     "iopub.status.busy": "2023-06-24T09:12:09.812260Z",
     "iopub.status.idle": "2023-06-24T09:12:10.095896Z",
     "shell.execute_reply": "2023-06-24T09:12:10.094644Z",
     "shell.execute_reply.started": "2023-06-24T09:12:09.812651Z"
    }
   },
   "outputs": [
    {
     "data": {
      "text/plain": [
       "<AxesSubplot:title={'center':'TOP 10 Percent Death'}, ylabel='Country Name'>"
      ]
     },
     "execution_count": 14,
     "metadata": {},
     "output_type": "execute_result"
    },
    {
     "data": {
      "image/png": "[encoded data removed]",
      "text/plain": [
       "<Figure size 432x288 with 1 Axes>"
      ]
     },
     "metadata": {
      "needs_background": "light"
     },
     "output_type": "display_data"
    }
   ],
   "source": [
    "percent_death[:10].plot(kind='barh', x='Country Name', y='Death %',color='red',title='TOP 10 Percent Death')"
   ]
  },
  {
   "cell_type": "markdown",
   "metadata": {},
   "source": [
    "### 2) Top 10 Infected Countries "
   ]
  },
  {
   "cell_type": "code",
   "execution_count": 15,
   "metadata": {
    "execution": {
     "iopub.execute_input": "2023-06-24T09:03:03.160596Z",
     "iopub.status.busy": "2023-06-24T09:03:03.158886Z",
     "iopub.status.idle": "2023-06-24T09:03:03.183163Z",
     "shell.execute_reply": "2023-06-24T09:03:03.180464Z",
     "shell.execute_reply.started": "2023-06-24T09:03:03.160538Z"
    }
   },
   "outputs": [
    {
     "data": {
      "text/html": [
       "<div>\n",
       "<style scoped>\n",
       "    .dataframe tbody tr th:only-of-type {\n",
       "        vertical-align: middle;\n",
       "    }\n",
       "\n",
       "    .dataframe tbody tr th {\n",
       "        vertical-align: top;\n",
       "    }\n",
       "\n",
       "    .dataframe thead th {\n",
       "        text-align: right;\n",
       "    }\n",
       "</style>\n",
       "<table border=\"1\" class=\"dataframe\">\n",
       "  <thead>\n",
       "    <tr style=\"text-align: right;\">\n",
       "      <th></th>\n",
       "      <th>Country Name</th>\n",
       "      <th>Total Infected</th>\n",
       "      <th>Total Deaths</th>\n",
       "      <th>Total Recovered</th>\n",
       "      <th>Death %</th>\n",
       "      <th>Recovered %</th>\n",
       "    </tr>\n",
       "  </thead>\n",
       "  <tbody>\n",
       "    <tr>\n",
       "      <th>0</th>\n",
       "      <td>USA</td>\n",
       "      <td>47916190</td>\n",
       "      <td>783565</td>\n",
       "      <td>37918301.0</td>\n",
       "      <td>1.6</td>\n",
       "      <td>79.1</td>\n",
       "    </tr>\n",
       "    <tr>\n",
       "      <th>1</th>\n",
       "      <td>India</td>\n",
       "      <td>34447536</td>\n",
       "      <td>463655</td>\n",
       "      <td>33849785.0</td>\n",
       "      <td>1.3</td>\n",
       "      <td>98.3</td>\n",
       "    </tr>\n",
       "    <tr>\n",
       "      <th>2</th>\n",
       "      <td>Brazil</td>\n",
       "      <td>21957967</td>\n",
       "      <td>611318</td>\n",
       "      <td>21151342.0</td>\n",
       "      <td>2.8</td>\n",
       "      <td>96.3</td>\n",
       "    </tr>\n",
       "    <tr>\n",
       "      <th>3</th>\n",
       "      <td>UK</td>\n",
       "      <td>9561099</td>\n",
       "      <td>142898</td>\n",
       "      <td>7825200.0</td>\n",
       "      <td>1.5</td>\n",
       "      <td>81.8</td>\n",
       "    </tr>\n",
       "    <tr>\n",
       "      <th>4</th>\n",
       "      <td>Russia</td>\n",
       "      <td>9109094</td>\n",
       "      <td>256597</td>\n",
       "      <td>7812557.0</td>\n",
       "      <td>2.8</td>\n",
       "      <td>85.8</td>\n",
       "    </tr>\n",
       "    <tr>\n",
       "      <th>5</th>\n",
       "      <td>Turkey</td>\n",
       "      <td>8408166</td>\n",
       "      <td>73531</td>\n",
       "      <td>7888959.0</td>\n",
       "      <td>0.9</td>\n",
       "      <td>93.8</td>\n",
       "    </tr>\n",
       "    <tr>\n",
       "      <th>6</th>\n",
       "      <td>France</td>\n",
       "      <td>7287645</td>\n",
       "      <td>118154</td>\n",
       "      <td>7009026.0</td>\n",
       "      <td>1.6</td>\n",
       "      <td>96.2</td>\n",
       "    </tr>\n",
       "    <tr>\n",
       "      <th>7</th>\n",
       "      <td>Iran</td>\n",
       "      <td>6045212</td>\n",
       "      <td>128272</td>\n",
       "      <td>5708253.0</td>\n",
       "      <td>2.1</td>\n",
       "      <td>94.4</td>\n",
       "    </tr>\n",
       "    <tr>\n",
       "      <th>8</th>\n",
       "      <td>Argentina</td>\n",
       "      <td>5305742</td>\n",
       "      <td>116232</td>\n",
       "      <td>5172193.0</td>\n",
       "      <td>2.2</td>\n",
       "      <td>97.5</td>\n",
       "    </tr>\n",
       "    <tr>\n",
       "      <th>9</th>\n",
       "      <td>Spain</td>\n",
       "      <td>5047156</td>\n",
       "      <td>87673</td>\n",
       "      <td>4889801.0</td>\n",
       "      <td>1.7</td>\n",
       "      <td>96.9</td>\n",
       "    </tr>\n",
       "  </tbody>\n",
       "</table>\n",
       "</div>"
      ],
      "text/plain": [
       "  Country Name  Total Infected  Total Deaths  Total Recovered  Death %  \\\n",
       "0          USA        47916190        783565       37918301.0      1.6   \n",
       "1        India        34447536        463655       33849785.0      1.3   \n",
       "2       Brazil        21957967        611318       21151342.0      2.8   \n",
       "3           UK         9561099        142898        7825200.0      1.5   \n",
       "4       Russia         9109094        256597        7812557.0      2.8   \n",
       "5       Turkey         8408166         73531        7888959.0      0.9   \n",
       "6       France         7287645        118154        7009026.0      1.6   \n",
       "7         Iran         6045212        128272        5708253.0      2.1   \n",
       "8    Argentina         5305742        116232        5172193.0      2.2   \n",
       "9        Spain         5047156         87673        4889801.0      1.7   \n",
       "\n",
       "   Recovered %  \n",
       "0         79.1  \n",
       "1         98.3  \n",
       "2         96.3  \n",
       "3         81.8  \n",
       "4         85.8  \n",
       "5         93.8  \n",
       "6         96.2  \n",
       "7         94.4  \n",
       "8         97.5  \n",
       "9         96.9  "
      ]
     },
     "execution_count": 15,
     "metadata": {},
     "output_type": "execute_result"
    }
   ],
   "source": [
    "Total_infected_top10 = dataset.sort_values(by='Total Infected',inplace=False, ascending = False)[:10]\n",
    "Total_infected_top10"
   ]
  },
  {
   "cell_type": "code",
   "execution_count": 16,
   "metadata": {
    "execution": {
     "iopub.execute_input": "2023-06-24T09:33:10.194397Z",
     "iopub.status.busy": "2023-06-24T09:33:10.193978Z",
     "iopub.status.idle": "2023-06-24T09:33:10.585746Z",
     "shell.execute_reply": "2023-06-24T09:33:10.584431Z",
     "shell.execute_reply.started": "2023-06-24T09:33:10.194360Z"
    }
   },
   "outputs": [
    {
     "data": {
      "text/plain": [
       "<AxesSubplot:title={'center':'10 countries with highest number of infections'}, ylabel='Total Infected'>"
      ]
     },
     "execution_count": 16,
     "metadata": {},
     "output_type": "execute_result"
    },
    {
     "data": {
      "image/png": "[encoded data removed]",
      "text/plain": [
       "<Figure size 432x288 with 1 Axes>"
      ]
     },
     "metadata": {},
     "output_type": "display_data"
    }
   ],
   "source": [
    "Total_infected_top10.groupby(['Country Name']).sum().plot(kind='pie', x='Country Name', y='Total Infected', title='10 countries with highest number of infections')"
   ]
  },
  {
   "cell_type": "code",
   "execution_count": 19,
   "metadata": {
    "execution": {
     "iopub.execute_input": "2023-06-24T09:07:36.052971Z",
     "iopub.status.busy": "2023-06-24T09:07:36.052529Z",
     "iopub.status.idle": "2023-06-24T09:07:36.549733Z",
     "shell.execute_reply": "2023-06-24T09:07:36.548309Z",
     "shell.execute_reply.started": "2023-06-24T09:07:36.052931Z"
    }
   },
   "outputs": [
    {
     "data": {
      "text/plain": [
       "<AxesSubplot:xlabel='Total Infected', ylabel='Total Deaths'>"
      ]
     },
     "execution_count": 19,
     "metadata": {},
     "output_type": "execute_result"
    },
    {
     "data": {
      "image/png": "[encoded data removed]",
      "text/plain": [
       "<Figure size 432x288 with 1 Axes>"
      ]
     },
     "metadata": {
      "needs_background": "light"
     },
     "output_type": "display_data"
    }
   ],
   "source": [
    "sns.scatterplot(x='Total Infected', y='Total Deaths', data = Total_infected_top10, hue = 'Country Name')"
   ]
  },
  {
   "cell_type": "code",
   "execution_count": 20,
   "metadata": {
    "execution": {
     "iopub.execute_input": "2023-06-24T09:08:16.252850Z",
     "iopub.status.busy": "2023-06-24T09:08:16.252299Z",
     "iopub.status.idle": "2023-06-24T09:08:16.790738Z",
     "shell.execute_reply": "2023-06-24T09:08:16.789759Z",
     "shell.execute_reply.started": "2023-06-24T09:08:16.252788Z"
    }
   },
   "outputs": [
    {
     "data": {
      "text/plain": [
       "<AxesSubplot:xlabel='Total Infected', ylabel='Total Recovered'>"
      ]
     },
     "execution_count": 20,
     "metadata": {},
     "output_type": "execute_result"
    },
    {
     "data": {
      "image/png": "[encoded data removed]",
      "text/plain": [
       "<Figure size 432x288 with 1 Axes>"
      ]
     },
     "metadata": {
      "needs_background": "light"
     },
     "output_type": "display_data"
    }
   ],
   "source": [
    "sns.scatterplot(x='Total Infected', y='Total Recovered', data = Total_infected_top10, hue = 'Country Name')"
   ]
  },
  {
   "cell_type": "markdown",
   "metadata": {},
   "source": [
    "### 3) Top 10 Recoverd percentage of Countries"
   ]
  },
  {
   "cell_type": "code",
   "execution_count": 21,
   "metadata": {
    "execution": {
     "iopub.execute_input": "2023-06-24T09:11:06.904658Z",
     "iopub.status.busy": "2023-06-24T09:11:06.904156Z",
     "iopub.status.idle": "2023-06-24T09:11:06.920715Z",
     "shell.execute_reply": "2023-06-24T09:11:06.919327Z",
     "shell.execute_reply.started": "2023-06-24T09:11:06.904615Z"
    }
   },
   "outputs": [
    {
     "data": {
      "text/html": [
       "<div>\n",
       "<style scoped>\n",
       "    .dataframe tbody tr th:only-of-type {\n",
       "        vertical-align: middle;\n",
       "    }\n",
       "\n",
       "    .dataframe tbody tr th {\n",
       "        vertical-align: top;\n",
       "    }\n",
       "\n",
       "    .dataframe thead th {\n",
       "        text-align: right;\n",
       "    }\n",
       "</style>\n",
       "<table border=\"1\" class=\"dataframe\">\n",
       "  <thead>\n",
       "    <tr style=\"text-align: right;\">\n",
       "      <th></th>\n",
       "      <th>Country Name</th>\n",
       "      <th>Recovered %</th>\n",
       "    </tr>\n",
       "  </thead>\n",
       "  <tbody>\n",
       "    <tr>\n",
       "      <th>1</th>\n",
       "      <td>India</td>\n",
       "      <td>98.3</td>\n",
       "    </tr>\n",
       "    <tr>\n",
       "      <th>8</th>\n",
       "      <td>Argentina</td>\n",
       "      <td>97.5</td>\n",
       "    </tr>\n",
       "    <tr>\n",
       "      <th>9</th>\n",
       "      <td>Spain</td>\n",
       "      <td>96.9</td>\n",
       "    </tr>\n",
       "    <tr>\n",
       "      <th>2</th>\n",
       "      <td>Brazil</td>\n",
       "      <td>96.3</td>\n",
       "    </tr>\n",
       "    <tr>\n",
       "      <th>6</th>\n",
       "      <td>France</td>\n",
       "      <td>96.2</td>\n",
       "    </tr>\n",
       "    <tr>\n",
       "      <th>7</th>\n",
       "      <td>Iran</td>\n",
       "      <td>94.4</td>\n",
       "    </tr>\n",
       "    <tr>\n",
       "      <th>5</th>\n",
       "      <td>Turkey</td>\n",
       "      <td>93.8</td>\n",
       "    </tr>\n",
       "    <tr>\n",
       "      <th>4</th>\n",
       "      <td>Russia</td>\n",
       "      <td>85.8</td>\n",
       "    </tr>\n",
       "    <tr>\n",
       "      <th>3</th>\n",
       "      <td>UK</td>\n",
       "      <td>81.8</td>\n",
       "    </tr>\n",
       "    <tr>\n",
       "      <th>0</th>\n",
       "      <td>USA</td>\n",
       "      <td>79.1</td>\n",
       "    </tr>\n",
       "  </tbody>\n",
       "</table>\n",
       "</div>"
      ],
      "text/plain": [
       "  Country Name  Recovered %\n",
       "1        India         98.3\n",
       "8    Argentina         97.5\n",
       "9        Spain         96.9\n",
       "2       Brazil         96.3\n",
       "6       France         96.2\n",
       "7         Iran         94.4\n",
       "5       Turkey         93.8\n",
       "4       Russia         85.8\n",
       "3           UK         81.8\n",
       "0          USA         79.1"
      ]
     },
     "execution_count": 21,
     "metadata": {},
     "output_type": "execute_result"
    }
   ],
   "source": [
    "top_recovered = Total_infected_top10[[\"Country Name\",\"Recovered %\"]].sort_values(by=\"Recovered %\", ascending=False)[:10]\n",
    "top_recovered"
   ]
  },
  {
   "cell_type": "code",
   "execution_count": 28,
   "metadata": {
    "execution": {
     "iopub.execute_input": "2023-06-24T09:12:25.183783Z",
     "iopub.status.busy": "2023-06-24T09:12:25.183354Z",
     "iopub.status.idle": "2023-06-24T09:12:25.445570Z",
     "shell.execute_reply": "2023-06-24T09:12:25.444356Z",
     "shell.execute_reply.started": "2023-06-24T09:12:25.183746Z"
    }
   },
   "outputs": [
    {
     "data": {
      "image/png": "[encoded data removed]",
      "text/plain": [
       "<Figure size 640x480 with 1 Axes>"
      ]
     },
     "metadata": {},
     "output_type": "display_data"
    }
   ],
   "source": [
    "top_recovered[:10].plot(kind='barh', x='Country Name', y='Recovered %',color='green',title='TOP 10 Case Recovered');"
   ]
  }
 ],
 "metadata": {
  "kernelspec": {
   "display_name": "Python 3",
   "language": "python",
   "name": "python3"
  },
  "language_info": {
   "codemirror_mode": {
    "name": "ipython",
    "version": 3
   },
   "file_extension": ".py",
   "mimetype": "text/x-python",
   "name": "python",
   "nbconvert_exporter": "python",
   "pygments_lexer": "ipython3",
   "version": "3.7.1"
  }
 },
 "nbformat": 4,
 "nbformat_minor": 4
}
